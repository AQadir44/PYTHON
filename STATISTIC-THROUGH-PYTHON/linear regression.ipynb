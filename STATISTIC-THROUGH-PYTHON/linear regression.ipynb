{
 "cells": [
  {
   "cell_type": "code",
   "execution_count": 4,
   "metadata": {},
   "outputs": [],
   "source": [
    "from keras import models\n",
    "from keras import layers\n",
    "import numpy as np"
   ]
  },
  {
   "cell_type": "code",
   "execution_count": 12,
   "metadata": {},
   "outputs": [
    {
     "name": "stdout",
     "output_type": "stream",
     "text": [
      "[-1.    -0.998 -0.996 ...  0.996  0.998  1.   ]\n",
      "[-1.5560343  -2.38312031 -1.68689111 ...  1.76848515  2.2733927\n",
      "  2.12056756]\n"
     ]
    }
   ],
   "source": [
    "x = np.linspace(-1,1,1001)\n",
    "y = 2 * x+ np.random.randn(*x.shape) * 0.33\n",
    "print(x)\n",
    "print(y)"
   ]
  },
  {
   "cell_type": "code",
   "execution_count": 13,
   "metadata": {},
   "outputs": [],
   "source": [
    "model= models.Sequential()\n",
    "model.add(layers.Dense(1,activation='relu',input_dim=1))"
   ]
  },
  {
   "cell_type": "markdown",
   "metadata": {},
   "source": [
    "\n",
    "# compiLATION CONFIGRATION"
   ]
  },
  {
   "cell_type": "code",
   "execution_count": 14,
   "metadata": {},
   "outputs": [],
   "source": [
    "\n",
    "model.compile(optimizer='rmsprop',loss='mse', metrics=['mae'])"
   ]
  },
  {
   "cell_type": "code",
   "execution_count": 15,
   "metadata": {
    "scrolled": true
   },
   "outputs": [
    {
     "name": "stdout",
     "output_type": "stream",
     "text": [
      "WARNING:tensorflow:From C:\\Users\\aqadi\\Anaconda3\\lib\\site-packages\\tensorflow\\python\\ops\\math_ops.py:3066: to_int32 (from tensorflow.python.ops.math_ops) is deprecated and will be removed in a future version.\n",
      "Instructions for updating:\n",
      "Use tf.cast instead.\n",
      "Epoch 1/100\n",
      "1001/1001 [==============================] - 1s 510us/step - loss: 1.2125 - mean_absolute_error: 0.9336\n",
      "Epoch 2/100\n",
      "1001/1001 [==============================] - 0s 64us/step - loss: 1.1711 - mean_absolute_error: 0.9129\n",
      "Epoch 3/100\n",
      "1001/1001 [==============================] - 0s 61us/step - loss: 1.1353 - mean_absolute_error: 0.8942\n",
      "Epoch 4/100\n",
      "1001/1001 [==============================] - 0s 67us/step - loss: 1.1023 - mean_absolute_error: 0.8771\n",
      "Epoch 5/100\n",
      "1001/1001 [==============================] - 0s 61us/step - loss: 1.0731 - mean_absolute_error: 0.8616\n",
      "Epoch 6/100\n",
      "1001/1001 [==============================] - 0s 87us/step - loss: 1.0468 - mean_absolute_error: 0.8472\n",
      "Epoch 7/100\n",
      "1001/1001 [==============================] - 0s 59us/step - loss: 1.0237 - mean_absolute_error: 0.8341\n",
      "Epoch 8/100\n",
      "1001/1001 [==============================] - 0s 50us/step - loss: 1.0024 - mean_absolute_error: 0.8219\n",
      "Epoch 9/100\n",
      "1001/1001 [==============================] - 0s 64us/step - loss: 0.9842 - mean_absolute_error: 0.8106\n",
      "Epoch 10/100\n",
      "1001/1001 [==============================] - 0s 69us/step - loss: 0.9686 - mean_absolute_error: 0.8007\n",
      "Epoch 11/100\n",
      "1001/1001 [==============================] - 0s 68us/step - loss: 0.9552 - mean_absolute_error: 0.7918\n",
      "Epoch 12/100\n",
      "1001/1001 [==============================] - 0s 68us/step - loss: 0.9430 - mean_absolute_error: 0.7836\n",
      "Epoch 13/100\n",
      "1001/1001 [==============================] - 0s 57us/step - loss: 0.9317 - mean_absolute_error: 0.7759\n",
      "Epoch 14/100\n",
      "1001/1001 [==============================] - 0s 45us/step - loss: 0.9216 - mean_absolute_error: 0.7686\n",
      "Epoch 15/100\n",
      "1001/1001 [==============================] - 0s 50us/step - loss: 0.9122 - mean_absolute_error: 0.7618\n",
      "Epoch 16/100\n",
      "1001/1001 [==============================] - 0s 49us/step - loss: 0.9034 - mean_absolute_error: 0.7553\n",
      "Epoch 17/100\n",
      "1001/1001 [==============================] - 0s 68us/step - loss: 0.8950 - mean_absolute_error: 0.7491\n",
      "Epoch 18/100\n",
      "1001/1001 [==============================] - 0s 76us/step - loss: 0.8872 - mean_absolute_error: 0.7430\n",
      "Epoch 19/100\n",
      "1001/1001 [==============================] - 0s 67us/step - loss: 0.8799 - mean_absolute_error: 0.7373\n",
      "Epoch 20/100\n",
      "1001/1001 [==============================] - 0s 70us/step - loss: 0.8731 - mean_absolute_error: 0.7319\n",
      "Epoch 21/100\n",
      "1001/1001 [==============================] - 0s 66us/step - loss: 0.8667 - mean_absolute_error: 0.7268\n",
      "Epoch 22/100\n",
      "1001/1001 [==============================] - 0s 65us/step - loss: 0.8609 - mean_absolute_error: 0.7220\n",
      "Epoch 23/100\n",
      "1001/1001 [==============================] - 0s 67us/step - loss: 0.8553 - mean_absolute_error: 0.7175\n",
      "Epoch 24/100\n",
      "1001/1001 [==============================] - 0s 80us/step - loss: 0.8501 - mean_absolute_error: 0.7130\n",
      "Epoch 25/100\n",
      "1001/1001 [==============================] - 0s 63us/step - loss: 0.8451 - mean_absolute_error: 0.7086\n",
      "Epoch 26/100\n",
      "1001/1001 [==============================] - 0s 66us/step - loss: 0.8405 - mean_absolute_error: 0.7046\n",
      "Epoch 27/100\n",
      "1001/1001 [==============================] - 0s 71us/step - loss: 0.8363 - mean_absolute_error: 0.7009\n",
      "Epoch 28/100\n",
      "1001/1001 [==============================] - 0s 69us/step - loss: 0.8325 - mean_absolute_error: 0.6975\n",
      "Epoch 29/100\n",
      "1001/1001 [==============================] - 0s 66us/step - loss: 0.8292 - mean_absolute_error: 0.6943\n",
      "Epoch 30/100\n",
      "1001/1001 [==============================] - 0s 75us/step - loss: 0.8257 - mean_absolute_error: 0.6911\n",
      "Epoch 31/100\n",
      "1001/1001 [==============================] - 0s 67us/step - loss: 0.8227 - mean_absolute_error: 0.6881\n",
      "Epoch 32/100\n",
      "1001/1001 [==============================] - 0s 60us/step - loss: 0.8199 - mean_absolute_error: 0.6853\n",
      "Epoch 33/100\n",
      "1001/1001 [==============================] - 0s 53us/step - loss: 0.8173 - mean_absolute_error: 0.6825\n",
      "Epoch 34/100\n",
      "1001/1001 [==============================] - 0s 70us/step - loss: 0.8146 - mean_absolute_error: 0.6800\n",
      "Epoch 35/100\n",
      "1001/1001 [==============================] - 0s 64us/step - loss: 0.8123 - mean_absolute_error: 0.6777\n",
      "Epoch 36/100\n",
      "1001/1001 [==============================] - 0s 67us/step - loss: 0.8103 - mean_absolute_error: 0.6755\n",
      "Epoch 37/100\n",
      "1001/1001 [==============================] - 0s 62us/step - loss: 0.8084 - mean_absolute_error: 0.6736\n",
      "Epoch 38/100\n",
      "1001/1001 [==============================] - 0s 63us/step - loss: 0.8065 - mean_absolute_error: 0.6716\n",
      "Epoch 39/100\n",
      "1001/1001 [==============================] - 0s 62us/step - loss: 0.8051 - mean_absolute_error: 0.6700\n",
      "Epoch 40/100\n",
      "1001/1001 [==============================] - 0s 57us/step - loss: 0.8038 - mean_absolute_error: 0.6685\n",
      "Epoch 41/100\n",
      "1001/1001 [==============================] - 0s 49us/step - loss: 0.8027 - mean_absolute_error: 0.6672\n",
      "Epoch 42/100\n",
      "1001/1001 [==============================] - 0s 49us/step - loss: 0.8016 - mean_absolute_error: 0.6659\n",
      "Epoch 43/100\n",
      "1001/1001 [==============================] - 0s 57us/step - loss: 0.8007 - mean_absolute_error: 0.6648\n",
      "Epoch 44/100\n",
      "1001/1001 [==============================] - 0s 55us/step - loss: 0.7998 - mean_absolute_error: 0.6636\n",
      "Epoch 45/100\n",
      "1001/1001 [==============================] - 0s 50us/step - loss: 0.7990 - mean_absolute_error: 0.6628\n",
      "Epoch 46/100\n",
      "1001/1001 [==============================] - 0s 46us/step - loss: 0.7983 - mean_absolute_error: 0.6620\n",
      "Epoch 47/100\n",
      "1001/1001 [==============================] - 0s 49us/step - loss: 0.7977 - mean_absolute_error: 0.6615\n",
      "Epoch 48/100\n",
      "1001/1001 [==============================] - 0s 48us/step - loss: 0.7970 - mean_absolute_error: 0.6607\n",
      "Epoch 49/100\n",
      "1001/1001 [==============================] - 0s 62us/step - loss: 0.7966 - mean_absolute_error: 0.6601\n",
      "Epoch 50/100\n",
      "1001/1001 [==============================] - 0s 72us/step - loss: 0.7961 - mean_absolute_error: 0.6596\n",
      "Epoch 51/100\n",
      "1001/1001 [==============================] - 0s 62us/step - loss: 0.7956 - mean_absolute_error: 0.6590\n",
      "Epoch 52/100\n",
      "1001/1001 [==============================] - 0s 64us/step - loss: 0.7951 - mean_absolute_error: 0.6585\n",
      "Epoch 53/100\n",
      "1001/1001 [==============================] - 0s 52us/step - loss: 0.7948 - mean_absolute_error: 0.6582\n",
      "Epoch 54/100\n",
      "1001/1001 [==============================] - 0s 48us/step - loss: 0.7945 - mean_absolute_error: 0.6578\n",
      "Epoch 55/100\n",
      "1001/1001 [==============================] - 0s 52us/step - loss: 0.7942 - mean_absolute_error: 0.6575\n",
      "Epoch 56/100\n",
      "1001/1001 [==============================] - 0s 49us/step - loss: 0.7940 - mean_absolute_error: 0.6572\n",
      "Epoch 57/100\n",
      "1001/1001 [==============================] - 0s 42us/step - loss: 0.7938 - mean_absolute_error: 0.6570\n",
      "Epoch 58/100\n",
      "1001/1001 [==============================] - 0s 43us/step - loss: 0.7936 - mean_absolute_error: 0.6568\n",
      "Epoch 59/100\n",
      "1001/1001 [==============================] - 0s 46us/step - loss: 0.7934 - mean_absolute_error: 0.6566\n",
      "Epoch 60/100\n",
      "1001/1001 [==============================] - 0s 44us/step - loss: 0.7933 - mean_absolute_error: 0.6564\n",
      "Epoch 61/100\n",
      "1001/1001 [==============================] - 0s 68us/step - loss: 0.7932 - mean_absolute_error: 0.6563\n",
      "Epoch 62/100\n",
      "1001/1001 [==============================] - 0s 65us/step - loss: 0.7930 - mean_absolute_error: 0.6561\n",
      "Epoch 63/100\n",
      "1001/1001 [==============================] - 0s 45us/step - loss: 0.7929 - mean_absolute_error: 0.6558\n",
      "Epoch 64/100\n",
      "1001/1001 [==============================] - 0s 41us/step - loss: 0.7928 - mean_absolute_error: 0.6558\n",
      "Epoch 65/100\n",
      "1001/1001 [==============================] - 0s 41us/step - loss: 0.7927 - mean_absolute_error: 0.6558\n",
      "Epoch 66/100\n",
      "1001/1001 [==============================] - 0s 36us/step - loss: 0.7926 - mean_absolute_error: 0.6557\n",
      "Epoch 67/100\n",
      "1001/1001 [==============================] - 0s 43us/step - loss: 0.7926 - mean_absolute_error: 0.6555\n",
      "Epoch 68/100\n",
      "1001/1001 [==============================] - 0s 43us/step - loss: 0.7925 - mean_absolute_error: 0.6555\n",
      "Epoch 69/100\n"
     ]
    },
    {
     "name": "stdout",
     "output_type": "stream",
     "text": [
      "1001/1001 [==============================] - 0s 42us/step - loss: 0.7924 - mean_absolute_error: 0.6554\n",
      "Epoch 70/100\n",
      "1001/1001 [==============================] - 0s 47us/step - loss: 0.7923 - mean_absolute_error: 0.6553\n",
      "Epoch 71/100\n",
      "1001/1001 [==============================] - 0s 69us/step - loss: 0.7923 - mean_absolute_error: 0.6553\n",
      "Epoch 72/100\n",
      "1001/1001 [==============================] - 0s 79us/step - loss: 0.7922 - mean_absolute_error: 0.6552\n",
      "Epoch 73/100\n",
      "1001/1001 [==============================] - 0s 70us/step - loss: 0.7922 - mean_absolute_error: 0.6552\n",
      "Epoch 74/100\n",
      "1001/1001 [==============================] - 0s 67us/step - loss: 0.7922 - mean_absolute_error: 0.6552\n",
      "Epoch 75/100\n",
      "1001/1001 [==============================] - 0s 75us/step - loss: 0.7921 - mean_absolute_error: 0.6551\n",
      "Epoch 76/100\n",
      "1001/1001 [==============================] - 0s 70us/step - loss: 0.7921 - mean_absolute_error: 0.6550\n",
      "Epoch 77/100\n",
      "1001/1001 [==============================] - 0s 49us/step - loss: 0.7920 - mean_absolute_error: 0.6550\n",
      "Epoch 78/100\n",
      "1001/1001 [==============================] - 0s 65us/step - loss: 0.7920 - mean_absolute_error: 0.6550\n",
      "Epoch 79/100\n",
      "1001/1001 [==============================] - 0s 78us/step - loss: 0.7920 - mean_absolute_error: 0.6549\n",
      "Epoch 80/100\n",
      "1001/1001 [==============================] - 0s 71us/step - loss: 0.7920 - mean_absolute_error: 0.6549\n",
      "Epoch 81/100\n",
      "1001/1001 [==============================] - 0s 67us/step - loss: 0.7920 - mean_absolute_error: 0.6549\n",
      "Epoch 82/100\n",
      "1001/1001 [==============================] - 0s 68us/step - loss: 0.7919 - mean_absolute_error: 0.6549\n",
      "Epoch 83/100\n",
      "1001/1001 [==============================] - 0s 70us/step - loss: 0.7919 - mean_absolute_error: 0.6548\n",
      "Epoch 84/100\n",
      "1001/1001 [==============================] - 0s 59us/step - loss: 0.7919 - mean_absolute_error: 0.6548\n",
      "Epoch 85/100\n",
      "1001/1001 [==============================] - 0s 63us/step - loss: 0.7919 - mean_absolute_error: 0.6548\n",
      "Epoch 86/100\n",
      "1001/1001 [==============================] - 0s 59us/step - loss: 0.7919 - mean_absolute_error: 0.6548\n",
      "Epoch 87/100\n",
      "1001/1001 [==============================] - 0s 46us/step - loss: 0.7919 - mean_absolute_error: 0.6547\n",
      "Epoch 88/100\n",
      "1001/1001 [==============================] - 0s 66us/step - loss: 0.7919 - mean_absolute_error: 0.6547\n",
      "Epoch 89/100\n",
      "1001/1001 [==============================] - 0s 73us/step - loss: 0.7919 - mean_absolute_error: 0.6548\n",
      "Epoch 90/100\n",
      "1001/1001 [==============================] - 0s 62us/step - loss: 0.7919 - mean_absolute_error: 0.6547\n",
      "Epoch 91/100\n",
      "1001/1001 [==============================] - 0s 69us/step - loss: 0.7919 - mean_absolute_error: 0.6547\n",
      "Epoch 92/100\n",
      "1001/1001 [==============================] - 0s 57us/step - loss: 0.7918 - mean_absolute_error: 0.6546\n",
      "Epoch 93/100\n",
      "1001/1001 [==============================] - 0s 62us/step - loss: 0.7918 - mean_absolute_error: 0.6547\n",
      "Epoch 94/100\n",
      "1001/1001 [==============================] - 0s 49us/step - loss: 0.7919 - mean_absolute_error: 0.6547\n",
      "Epoch 95/100\n",
      "1001/1001 [==============================] - 0s 70us/step - loss: 0.7918 - mean_absolute_error: 0.6547\n",
      "Epoch 96/100\n",
      "1001/1001 [==============================] - 0s 63us/step - loss: 0.7918 - mean_absolute_error: 0.6547\n",
      "Epoch 97/100\n",
      "1001/1001 [==============================] - 0s 51us/step - loss: 0.7918 - mean_absolute_error: 0.6547\n",
      "Epoch 98/100\n",
      "1001/1001 [==============================] - 0s 63us/step - loss: 0.7918 - mean_absolute_error: 0.6548\n",
      "Epoch 99/100\n",
      "1001/1001 [==============================] - 0s 60us/step - loss: 0.7918 - mean_absolute_error: 0.6546\n",
      "Epoch 100/100\n",
      "1001/1001 [==============================] - 0s 68us/step - loss: 0.7919 - mean_absolute_error: 0.6547\n"
     ]
    }
   ],
   "source": [
    "history=model.fit(x,y,epochs=100)"
   ]
  },
  {
   "cell_type": "code",
   "execution_count": 16,
   "metadata": {},
   "outputs": [
    {
     "data": {
      "text/plain": [
       "{'loss': [1.212462489421551,\n",
       "  1.1710516347751752,\n",
       "  1.135279540772681,\n",
       "  1.1022912612804523,\n",
       "  1.0731281718531331,\n",
       "  1.046785525627784,\n",
       "  1.023704799619707,\n",
       "  1.002438161756609,\n",
       "  0.9842193730465778,\n",
       "  0.9686017017383557,\n",
       "  0.9551509494905348,\n",
       "  0.9429781536360482,\n",
       "  0.9316805855675296,\n",
       "  0.9216024396898268,\n",
       "  0.9121756876682068,\n",
       "  0.903391923818674,\n",
       "  0.8950460307247989,\n",
       "  0.8872315965808713,\n",
       "  0.8798866241604656,\n",
       "  0.8731126422053213,\n",
       "  0.8667441489813211,\n",
       "  0.8608655663994285,\n",
       "  0.8553214428069946,\n",
       "  0.8500676860104313,\n",
       "  0.845084740922644,\n",
       "  0.8404707186646038,\n",
       "  0.8362552652230392,\n",
       "  0.8325125503611494,\n",
       "  0.829165716628571,\n",
       "  0.8256996936731406,\n",
       "  0.8226689792775013,\n",
       "  0.8199128301946315,\n",
       "  0.8172515052836854,\n",
       "  0.8145839164068887,\n",
       "  0.8122859908626987,\n",
       "  0.8102790027946144,\n",
       "  0.8084411991315408,\n",
       "  0.8065379906843949,\n",
       "  0.8050679963725906,\n",
       "  0.8037802120307823,\n",
       "  0.8026526748955428,\n",
       "  0.8016410818347683,\n",
       "  0.8006999976151473,\n",
       "  0.79976810942163,\n",
       "  0.7990076838435232,\n",
       "  0.7983032344699977,\n",
       "  0.7976763973702917,\n",
       "  0.7970297153179462,\n",
       "  0.7965771776812893,\n",
       "  0.7961019663424878,\n",
       "  0.7955742736200948,\n",
       "  0.7951362430453895,\n",
       "  0.7947723006868695,\n",
       "  0.7944911233373694,\n",
       "  0.7942146658599675,\n",
       "  0.7939998574487932,\n",
       "  0.7937897068637234,\n",
       "  0.7936086293819782,\n",
       "  0.7934362828195631,\n",
       "  0.7933086418843531,\n",
       "  0.7931734341365116,\n",
       "  0.7930339945184363,\n",
       "  0.7928963717999873,\n",
       "  0.7928138494967938,\n",
       "  0.7927196812439156,\n",
       "  0.7926233934832143,\n",
       "  0.7925594407361705,\n",
       "  0.7924826455402089,\n",
       "  0.7924114001261724,\n",
       "  0.7923318687733356,\n",
       "  0.7922855801992007,\n",
       "  0.7922354240517516,\n",
       "  0.7921882702277733,\n",
       "  0.7921524576016596,\n",
       "  0.7921069054217724,\n",
       "  0.7920595672461656,\n",
       "  0.792047442375244,\n",
       "  0.7920124011558967,\n",
       "  0.7919908401730297,\n",
       "  0.7919820857333851,\n",
       "  0.7919539057172381,\n",
       "  0.7919482146347915,\n",
       "  0.7919355794623658,\n",
       "  0.791893538418826,\n",
       "  0.7919304243453613,\n",
       "  0.7919033568103115,\n",
       "  0.7918959816138108,\n",
       "  0.791888404440332,\n",
       "  0.7918708350632216,\n",
       "  0.7918630104798537,\n",
       "  0.7918566428757571,\n",
       "  0.7918342180423565,\n",
       "  0.791843450390971,\n",
       "  0.7918572201357259,\n",
       "  0.7918330793018703,\n",
       "  0.791839738170822,\n",
       "  0.791832849100515,\n",
       "  0.7918266585537723,\n",
       "  0.7918275057614504,\n",
       "  0.7918520663287137],\n",
       " 'mean_absolute_error': [0.9335937060557165,\n",
       "  0.9128963538816759,\n",
       "  0.8941970946905496,\n",
       "  0.8770758753770834,\n",
       "  0.8616430378341293,\n",
       "  0.8471686361314772,\n",
       "  0.8340981881339828,\n",
       "  0.8218603562879991,\n",
       "  0.8105745543014039,\n",
       "  0.8007279172405735,\n",
       "  0.7917893303262366,\n",
       "  0.7836393841377625,\n",
       "  0.7759130037688352,\n",
       "  0.7685639526579644,\n",
       "  0.761773925382536,\n",
       "  0.7552551351465308,\n",
       "  0.7490516801575919,\n",
       "  0.7429966618726541,\n",
       "  0.7372856223499858,\n",
       "  0.7319260526608515,\n",
       "  0.7268235560778257,\n",
       "  0.7219864150265476,\n",
       "  0.7174544823872341,\n",
       "  0.7129599129879749,\n",
       "  0.7086269366038548,\n",
       "  0.7045873572657277,\n",
       "  0.7009257917161231,\n",
       "  0.6974542038543122,\n",
       "  0.6943196154736377,\n",
       "  0.6910851644826579,\n",
       "  0.6881309338621088,\n",
       "  0.6853246804360267,\n",
       "  0.6825286500103824,\n",
       "  0.6800447845911527,\n",
       "  0.6777013994001604,\n",
       "  0.6754694536372975,\n",
       "  0.6735638578931292,\n",
       "  0.671628014071957,\n",
       "  0.6699930217775789,\n",
       "  0.6684768748926473,\n",
       "  0.6671736096883273,\n",
       "  0.6658588281044593,\n",
       "  0.6647930413216621,\n",
       "  0.6636352317554729,\n",
       "  0.6627855077013746,\n",
       "  0.6619661735607075,\n",
       "  0.6614506712088456,\n",
       "  0.6606917603389842,\n",
       "  0.6600873343475334,\n",
       "  0.6596204519986392,\n",
       "  0.6590468039164891,\n",
       "  0.6585246919990181,\n",
       "  0.6581821510127255,\n",
       "  0.6578229636281401,\n",
       "  0.6574810924944463,\n",
       "  0.6571984342583171,\n",
       "  0.656969151534996,\n",
       "  0.6567972699007193,\n",
       "  0.6565773989651705,\n",
       "  0.6564125276945688,\n",
       "  0.6562630177496911,\n",
       "  0.6560688254001972,\n",
       "  0.6558411978222393,\n",
       "  0.6557976370686656,\n",
       "  0.6558127237128449,\n",
       "  0.655693280708778,\n",
       "  0.6555353285192134,\n",
       "  0.6554554836018817,\n",
       "  0.6553717176397363,\n",
       "  0.6552635716510701,\n",
       "  0.6552760262232084,\n",
       "  0.6551822077382456,\n",
       "  0.6551566314506722,\n",
       "  0.6551642743023959,\n",
       "  0.6551274206493046,\n",
       "  0.6550283980119479,\n",
       "  0.6550017840021497,\n",
       "  0.6549803793251693,\n",
       "  0.6548839954586773,\n",
       "  0.6549267628333428,\n",
       "  0.6548902944370464,\n",
       "  0.6549004030513478,\n",
       "  0.6548117486151543,\n",
       "  0.6548219035555433,\n",
       "  0.6547913188105459,\n",
       "  0.654818165552366,\n",
       "  0.65474072250572,\n",
       "  0.654723703503966,\n",
       "  0.6547542880703281,\n",
       "  0.6546985106272892,\n",
       "  0.6547184180129658,\n",
       "  0.6545944437161312,\n",
       "  0.6547245460671264,\n",
       "  0.6547055802978836,\n",
       "  0.6546691724589535,\n",
       "  0.6546993600976813,\n",
       "  0.6546732685663602,\n",
       "  0.654758067427577,\n",
       "  0.6545807354219191,\n",
       "  0.6546841211966821]}"
      ]
     },
     "execution_count": 16,
     "metadata": {},
     "output_type": "execute_result"
    }
   ],
   "source": [
    "history.history"
   ]
  },
  {
   "cell_type": "markdown",
   "metadata": {},
   "source": [
    "# test model performance on test data with evaluate method"
   ]
  },
  {
   "cell_type": "code",
   "execution_count": 17,
   "metadata": {},
   "outputs": [
    {
     "name": "stdout",
     "output_type": "stream",
     "text": [
      "1001/1001 [==============================] - 0s 129us/step\n"
     ]
    },
    {
     "data": {
      "text/plain": [
       "[0.791771484235605, 0.654582699144875]"
      ]
     },
     "execution_count": 17,
     "metadata": {},
     "output_type": "execute_result"
    }
   ],
   "source": [
    "model.evaluate(x,y)\n",
    "#loss and accuracy"
   ]
  },
  {
   "cell_type": "code",
   "execution_count": 18,
   "metadata": {},
   "outputs": [
    {
     "name": "stdout",
     "output_type": "stream",
     "text": [
      "_________________________________________________________________\n",
      "Layer (type)                 Output Shape              Param #   \n",
      "=================================================================\n",
      "dense_2 (Dense)              (None, 1)                 2         \n",
      "=================================================================\n",
      "Total params: 2\n",
      "Trainable params: 2\n",
      "Non-trainable params: 0\n",
      "_________________________________________________________________\n"
     ]
    }
   ],
   "source": [
    "model.summary()\n",
    "#parameter=weights and bias"
   ]
  },
  {
   "cell_type": "code",
   "execution_count": 19,
   "metadata": {},
   "outputs": [],
   "source": [
    "w,b=model.get_weights()"
   ]
  },
  {
   "cell_type": "code",
   "execution_count": 20,
   "metadata": {},
   "outputs": [
    {
     "data": {
      "text/plain": [
       "array([[1.8696293]], dtype=float32)"
      ]
     },
     "execution_count": 20,
     "metadata": {},
     "output_type": "execute_result"
    }
   ],
   "source": [
    "w"
   ]
  },
  {
   "cell_type": "code",
   "execution_count": 21,
   "metadata": {},
   "outputs": [
    {
     "data": {
      "text/plain": [
       "array([0.0687162], dtype=float32)"
      ]
     },
     "execution_count": 21,
     "metadata": {},
     "output_type": "execute_result"
    }
   ],
   "source": [
    "b"
   ]
  },
  {
   "cell_type": "code",
   "execution_count": 22,
   "metadata": {},
   "outputs": [],
   "source": [
    "#plot graph by predict"
   ]
  },
  {
   "cell_type": "code",
   "execution_count": 25,
   "metadata": {},
   "outputs": [],
   "source": [
    "def softmax(x):\n",
    "    prob= []\n",
    "    for i in x:\n",
    "        b = i/np.sum(x)\n",
    "        prob.append(b)\n",
    "    return prob\n",
    "# give every matrix ki hr element ki percentage (max and argmax)"
   ]
  },
  {
   "cell_type": "code",
   "execution_count": 26,
   "metadata": {},
   "outputs": [
    {
     "data": {
      "text/plain": [
       "[0.0625, 0.1875, 0.3125, 0.4375]"
      ]
     },
     "execution_count": 26,
     "metadata": {},
     "output_type": "execute_result"
    }
   ],
   "source": [
    "data = np.array([1,3,5,7])\n",
    "softmax(data)"
   ]
  },
  {
   "cell_type": "code",
   "execution_count": null,
   "metadata": {},
   "outputs": [],
   "source": [
    "#training input output\n",
    "#testing input"
   ]
  },
  {
   "cell_type": "code",
   "execution_count": null,
   "metadata": {},
   "outputs": [],
   "source": []
  },
  {
   "cell_type": "code",
   "execution_count": null,
   "metadata": {},
   "outputs": [],
   "source": []
  }
 ],
 "metadata": {
  "kernelspec": {
   "display_name": "Python 3",
   "language": "python",
   "name": "python3"
  },
  "language_info": {
   "codemirror_mode": {
    "name": "ipython",
    "version": 3
   },
   "file_extension": ".py",
   "mimetype": "text/x-python",
   "name": "python",
   "nbconvert_exporter": "python",
   "pygments_lexer": "ipython3",
   "version": "3.7.3"
  }
 },
 "nbformat": 4,
 "nbformat_minor": 2
}
