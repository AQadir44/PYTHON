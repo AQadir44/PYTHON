{
 "cells": [
  {
   "cell_type": "code",
   "execution_count": 1,
   "metadata": {},
   "outputs": [],
   "source": [
    "import numpy as np"
   ]
  },
  {
   "cell_type": "code",
   "execution_count": 2,
   "metadata": {},
   "outputs": [],
   "source": [
    "a = np.arange(100).reshape(5,4,5)"
   ]
  },
  {
   "cell_type": "code",
   "execution_count": 3,
   "metadata": {},
   "outputs": [
    {
     "data": {
      "text/plain": [
       "array([[[ 0,  1,  2,  3,  4],\n",
       "        [ 5,  6,  7,  8,  9],\n",
       "        [10, 11, 12, 13, 14],\n",
       "        [15, 16, 17, 18, 19]],\n",
       "\n",
       "       [[20, 21, 22, 23, 24],\n",
       "        [25, 26, 27, 28, 29],\n",
       "        [30, 31, 32, 33, 34],\n",
       "        [35, 36, 37, 38, 39]],\n",
       "\n",
       "       [[40, 41, 42, 43, 44],\n",
       "        [45, 46, 47, 48, 49],\n",
       "        [50, 51, 52, 53, 54],\n",
       "        [55, 56, 57, 58, 59]],\n",
       "\n",
       "       [[60, 61, 62, 63, 64],\n",
       "        [65, 66, 67, 68, 69],\n",
       "        [70, 71, 72, 73, 74],\n",
       "        [75, 76, 77, 78, 79]],\n",
       "\n",
       "       [[80, 81, 82, 83, 84],\n",
       "        [85, 86, 87, 88, 89],\n",
       "        [90, 91, 92, 93, 94],\n",
       "        [95, 96, 97, 98, 99]]])"
      ]
     },
     "execution_count": 3,
     "metadata": {},
     "output_type": "execute_result"
    }
   ],
   "source": [
    "a"
   ]
  },
  {
   "cell_type": "code",
   "execution_count": 4,
   "metadata": {},
   "outputs": [
    {
     "data": {
      "text/plain": [
       "array([[[ 0, 20, 40, 60, 80],\n",
       "        [ 5, 25, 45, 65, 85],\n",
       "        [10, 30, 50, 70, 90],\n",
       "        [15, 35, 55, 75, 95]],\n",
       "\n",
       "       [[ 1, 21, 41, 61, 81],\n",
       "        [ 6, 26, 46, 66, 86],\n",
       "        [11, 31, 51, 71, 91],\n",
       "        [16, 36, 56, 76, 96]],\n",
       "\n",
       "       [[ 2, 22, 42, 62, 82],\n",
       "        [ 7, 27, 47, 67, 87],\n",
       "        [12, 32, 52, 72, 92],\n",
       "        [17, 37, 57, 77, 97]],\n",
       "\n",
       "       [[ 3, 23, 43, 63, 83],\n",
       "        [ 8, 28, 48, 68, 88],\n",
       "        [13, 33, 53, 73, 93],\n",
       "        [18, 38, 58, 78, 98]],\n",
       "\n",
       "       [[ 4, 24, 44, 64, 84],\n",
       "        [ 9, 29, 49, 69, 89],\n",
       "        [14, 34, 54, 74, 94],\n",
       "        [19, 39, 59, 79, 99]]])"
      ]
     },
     "execution_count": 4,
     "metadata": {},
     "output_type": "execute_result"
    }
   ],
   "source": [
    "a.T"
   ]
  },
  {
   "cell_type": "code",
   "execution_count": 5,
   "metadata": {},
   "outputs": [],
   "source": [
    "b = np.arange(10).reshape(2,5)"
   ]
  },
  {
   "cell_type": "code",
   "execution_count": 6,
   "metadata": {},
   "outputs": [
    {
     "data": {
      "text/plain": [
       "array([[0, 1, 2, 3, 4],\n",
       "       [5, 6, 7, 8, 9]])"
      ]
     },
     "execution_count": 6,
     "metadata": {},
     "output_type": "execute_result"
    }
   ],
   "source": [
    "b"
   ]
  },
  {
   "cell_type": "code",
   "execution_count": 7,
   "metadata": {},
   "outputs": [
    {
     "data": {
      "text/plain": [
       "array([[0, 5],\n",
       "       [1, 6],\n",
       "       [2, 7],\n",
       "       [3, 8],\n",
       "       [4, 9]])"
      ]
     },
     "execution_count": 7,
     "metadata": {},
     "output_type": "execute_result"
    }
   ],
   "source": [
    "b.T"
   ]
  },
  {
   "cell_type": "code",
   "execution_count": 8,
   "metadata": {},
   "outputs": [
    {
     "data": {
      "text/plain": [
       "array([[ 30,  80],\n",
       "       [ 80, 255]])"
      ]
     },
     "execution_count": 8,
     "metadata": {},
     "output_type": "execute_result"
    }
   ],
   "source": [
    "np.dot(b,b.T)"
   ]
  },
  {
   "cell_type": "code",
   "execution_count": 9,
   "metadata": {},
   "outputs": [
    {
     "ename": "ValueError",
     "evalue": "shapes (5,4,5) and (5,4,5) not aligned: 5 (dim 2) != 4 (dim 1)",
     "output_type": "error",
     "traceback": [
      "\u001b[1;31m---------------------------------------------------------------------------\u001b[0m",
      "\u001b[1;31mValueError\u001b[0m                                Traceback (most recent call last)",
      "\u001b[1;32m<ipython-input-9-9b6711ba3b47>\u001b[0m in \u001b[0;36m<module>\u001b[1;34m\u001b[0m\n\u001b[1;32m----> 1\u001b[1;33m \u001b[0mnp\u001b[0m\u001b[1;33m.\u001b[0m\u001b[0mdot\u001b[0m\u001b[1;33m(\u001b[0m\u001b[0ma\u001b[0m\u001b[1;33m,\u001b[0m\u001b[0ma\u001b[0m\u001b[1;33m.\u001b[0m\u001b[0mT\u001b[0m\u001b[1;33m)\u001b[0m\u001b[1;33m\u001b[0m\u001b[1;33m\u001b[0m\u001b[0m\n\u001b[0m",
      "\u001b[1;31mValueError\u001b[0m: shapes (5,4,5) and (5,4,5) not aligned: 5 (dim 2) != 4 (dim 1)"
     ]
    }
   ],
   "source": [
    "np.dot(a,a.T)"
   ]
  },
  {
   "cell_type": "code",
   "execution_count": 10,
   "metadata": {},
   "outputs": [
    {
     "data": {
      "text/plain": [
       "array([[0, 5],\n",
       "       [1, 6],\n",
       "       [2, 7],\n",
       "       [3, 8],\n",
       "       [4, 9]])"
      ]
     },
     "execution_count": 10,
     "metadata": {},
     "output_type": "execute_result"
    }
   ],
   "source": [
    "b.transpose((1,0))"
   ]
  },
  {
   "cell_type": "code",
   "execution_count": 11,
   "metadata": {},
   "outputs": [
    {
     "data": {
      "text/plain": [
       "array([[[ 0,  1,  2,  3,  4],\n",
       "        [20, 21, 22, 23, 24],\n",
       "        [40, 41, 42, 43, 44],\n",
       "        [60, 61, 62, 63, 64],\n",
       "        [80, 81, 82, 83, 84]],\n",
       "\n",
       "       [[ 5,  6,  7,  8,  9],\n",
       "        [25, 26, 27, 28, 29],\n",
       "        [45, 46, 47, 48, 49],\n",
       "        [65, 66, 67, 68, 69],\n",
       "        [85, 86, 87, 88, 89]],\n",
       "\n",
       "       [[10, 11, 12, 13, 14],\n",
       "        [30, 31, 32, 33, 34],\n",
       "        [50, 51, 52, 53, 54],\n",
       "        [70, 71, 72, 73, 74],\n",
       "        [90, 91, 92, 93, 94]],\n",
       "\n",
       "       [[15, 16, 17, 18, 19],\n",
       "        [35, 36, 37, 38, 39],\n",
       "        [55, 56, 57, 58, 59],\n",
       "        [75, 76, 77, 78, 79],\n",
       "        [95, 96, 97, 98, 99]]])"
      ]
     },
     "execution_count": 11,
     "metadata": {},
     "output_type": "execute_result"
    }
   ],
   "source": [
    "a.transpose((1,0,2))"
   ]
  },
  {
   "cell_type": "code",
   "execution_count": 12,
   "metadata": {},
   "outputs": [
    {
     "data": {
      "text/plain": [
       "array([[0, 5],\n",
       "       [1, 6],\n",
       "       [2, 7],\n",
       "       [3, 8],\n",
       "       [4, 9]])"
      ]
     },
     "execution_count": 12,
     "metadata": {},
     "output_type": "execute_result"
    }
   ],
   "source": [
    "b.swapaxes(1,0)"
   ]
  },
  {
   "cell_type": "code",
   "execution_count": 13,
   "metadata": {},
   "outputs": [
    {
     "data": {
      "text/plain": [
       "array([[0, 5],\n",
       "       [1, 6],\n",
       "       [2, 7],\n",
       "       [3, 8],\n",
       "       [4, 9]])"
      ]
     },
     "execution_count": 13,
     "metadata": {},
     "output_type": "execute_result"
    }
   ],
   "source": [
    "b.swapaxes(0,1)"
   ]
  },
  {
   "cell_type": "code",
   "execution_count": 14,
   "metadata": {},
   "outputs": [
    {
     "data": {
      "text/plain": [
       "array([[0, 1, 2, 3, 4],\n",
       "       [5, 6, 7, 8, 9]])"
      ]
     },
     "execution_count": 14,
     "metadata": {},
     "output_type": "execute_result"
    }
   ],
   "source": [
    "b"
   ]
  },
  {
   "cell_type": "code",
   "execution_count": 15,
   "metadata": {},
   "outputs": [
    {
     "data": {
      "text/plain": [
       "array([[[ 0,  5, 10, 15],\n",
       "        [ 1,  6, 11, 16],\n",
       "        [ 2,  7, 12, 17],\n",
       "        [ 3,  8, 13, 18],\n",
       "        [ 4,  9, 14, 19]],\n",
       "\n",
       "       [[20, 25, 30, 35],\n",
       "        [21, 26, 31, 36],\n",
       "        [22, 27, 32, 37],\n",
       "        [23, 28, 33, 38],\n",
       "        [24, 29, 34, 39]],\n",
       "\n",
       "       [[40, 45, 50, 55],\n",
       "        [41, 46, 51, 56],\n",
       "        [42, 47, 52, 57],\n",
       "        [43, 48, 53, 58],\n",
       "        [44, 49, 54, 59]],\n",
       "\n",
       "       [[60, 65, 70, 75],\n",
       "        [61, 66, 71, 76],\n",
       "        [62, 67, 72, 77],\n",
       "        [63, 68, 73, 78],\n",
       "        [64, 69, 74, 79]],\n",
       "\n",
       "       [[80, 85, 90, 95],\n",
       "        [81, 86, 91, 96],\n",
       "        [82, 87, 92, 97],\n",
       "        [83, 88, 93, 98],\n",
       "        [84, 89, 94, 99]]])"
      ]
     },
     "execution_count": 15,
     "metadata": {},
     "output_type": "execute_result"
    }
   ],
   "source": [
    "a.swapaxes(2,1)"
   ]
  },
  {
   "cell_type": "code",
   "execution_count": 16,
   "metadata": {},
   "outputs": [
    {
     "data": {
      "text/plain": [
       "array([[[ 0,  1,  2,  3,  4],\n",
       "        [ 5,  6,  7,  8,  9],\n",
       "        [10, 11, 12, 13, 14],\n",
       "        [15, 16, 17, 18, 19]],\n",
       "\n",
       "       [[20, 21, 22, 23, 24],\n",
       "        [25, 26, 27, 28, 29],\n",
       "        [30, 31, 32, 33, 34],\n",
       "        [35, 36, 37, 38, 39]],\n",
       "\n",
       "       [[40, 41, 42, 43, 44],\n",
       "        [45, 46, 47, 48, 49],\n",
       "        [50, 51, 52, 53, 54],\n",
       "        [55, 56, 57, 58, 59]],\n",
       "\n",
       "       [[60, 61, 62, 63, 64],\n",
       "        [65, 66, 67, 68, 69],\n",
       "        [70, 71, 72, 73, 74],\n",
       "        [75, 76, 77, 78, 79]],\n",
       "\n",
       "       [[80, 81, 82, 83, 84],\n",
       "        [85, 86, 87, 88, 89],\n",
       "        [90, 91, 92, 93, 94],\n",
       "        [95, 96, 97, 98, 99]]])"
      ]
     },
     "execution_count": 16,
     "metadata": {},
     "output_type": "execute_result"
    }
   ],
   "source": [
    "a"
   ]
  },
  {
   "cell_type": "code",
   "execution_count": 17,
   "metadata": {},
   "outputs": [
    {
     "data": {
      "text/plain": [
       "array([[[ 0,  5, 10, 15],\n",
       "        [ 1,  6, 11, 16],\n",
       "        [ 2,  7, 12, 17],\n",
       "        [ 3,  8, 13, 18],\n",
       "        [ 4,  9, 14, 19]],\n",
       "\n",
       "       [[20, 25, 30, 35],\n",
       "        [21, 26, 31, 36],\n",
       "        [22, 27, 32, 37],\n",
       "        [23, 28, 33, 38],\n",
       "        [24, 29, 34, 39]],\n",
       "\n",
       "       [[40, 45, 50, 55],\n",
       "        [41, 46, 51, 56],\n",
       "        [42, 47, 52, 57],\n",
       "        [43, 48, 53, 58],\n",
       "        [44, 49, 54, 59]],\n",
       "\n",
       "       [[60, 65, 70, 75],\n",
       "        [61, 66, 71, 76],\n",
       "        [62, 67, 72, 77],\n",
       "        [63, 68, 73, 78],\n",
       "        [64, 69, 74, 79]],\n",
       "\n",
       "       [[80, 85, 90, 95],\n",
       "        [81, 86, 91, 96],\n",
       "        [82, 87, 92, 97],\n",
       "        [83, 88, 93, 98],\n",
       "        [84, 89, 94, 99]]])"
      ]
     },
     "execution_count": 17,
     "metadata": {},
     "output_type": "execute_result"
    }
   ],
   "source": [
    "a.swapaxes(1,2)"
   ]
  },
  {
   "cell_type": "code",
   "execution_count": null,
   "metadata": {},
   "outputs": [],
   "source": []
  },
  {
   "cell_type": "code",
   "execution_count": null,
   "metadata": {},
   "outputs": [],
   "source": []
  }
 ],
 "metadata": {
  "kernelspec": {
   "display_name": "Python 3",
   "language": "python",
   "name": "python3"
  },
  "language_info": {
   "codemirror_mode": {
    "name": "ipython",
    "version": 3
   },
   "file_extension": ".py",
   "mimetype": "text/x-python",
   "name": "python",
   "nbconvert_exporter": "python",
   "pygments_lexer": "ipython3",
   "version": "3.7.3"
  }
 },
 "nbformat": 4,
 "nbformat_minor": 2
}
