{
 "cells": [
  {
   "cell_type": "code",
   "execution_count": 1,
   "metadata": {},
   "outputs": [],
   "source": [
    "#NUMPY 3RD EDITION -- CHP 2\n",
    "#PYTHON FOR DATA ANALYSIS ---CHP 4"
   ]
  },
  {
   "cell_type": "raw",
   "metadata": {},
   "source": [
    "CHAAAPTER 2"
   ]
  },
  {
   "cell_type": "raw",
   "metadata": {},
   "source": [
    "DATA TYPE\n",
    ".ARRAY TYPE\n",
    ".TYPE CONVERSION\n",
    ".ARRAY CREATION\n",
    ".INDEXING\n",
    ".SLIICING\n",
    ".SHAPE MANIPULATION"
   ]
  },
  {
   "cell_type": "raw",
   "metadata": {},
   "source": [
    "ALL REVISION"
   ]
  },
  {
   "cell_type": "raw",
   "metadata": {},
   "source": [
    "# HELP CAN BE GIVEN BY HELP FUNCTION OR BY QUESTION MARKS TWO TIME OR ONE TMES"
   ]
  },
  {
   "cell_type": "raw",
   "metadata": {},
   "source": [
    "UNSIGNED VALUE IGNORE SIGN ONLLY TAKE NUMBER"
   ]
  },
  {
   "cell_type": "raw",
   "metadata": {},
   "source": [
    "UNICODE RETURN THE CODE OF ANY ALPHABET OF ANY LANGUAGE"
   ]
  },
  {
   "cell_type": "raw",
   "metadata": {},
   "source": [
    "NP.SCTYPEDICT.KEYS()"
   ]
  },
  {
   "cell_type": "raw",
   "metadata": {},
   "source": [
    "<(NDIAN)F(FLOAT TYPE)8(ELEMENT SIZE IN BITE)\n",
    "< (LESS NDIAN) JINKI BITE KAM HY USKO SB S PEHLY RAKHA HY MEMORY M\n",
    "> (BIIG NDIAN) JINKI  BITE ZIADA HY USKA SB S PEHLY RAKHA JAI GA"
   ]
  },
  {
   "cell_type": "raw",
   "metadata": {},
   "source": [
    "TIME FOR RECORD ACTION\n",
    "EXCEL TYPE SHEET DONE in which we can record data or recurd data\n",
    "it can be heterogenous"
   ]
  },
  {
   "cell_type": "code",
   "execution_count": 3,
   "metadata": {},
   "outputs": [],
   "source": [
    "import  numpy as np"
   ]
  },
  {
   "cell_type": "code",
   "execution_count": 4,
   "metadata": {},
   "outputs": [
    {
     "data": {
      "text/plain": [
       "dtype([('name', '<U40'), ('numitems', '<i4')])"
      ]
     },
     "execution_count": 4,
     "metadata": {},
     "output_type": "execute_result"
    }
   ],
   "source": [
    "t = np.dtype([('name',np.str_,40),('numitems',np.int32)])\n",
    "t"
   ]
  },
  {
   "cell_type": "code",
   "execution_count": 5,
   "metadata": {},
   "outputs": [
    {
     "data": {
      "text/plain": [
       "dtype('<U40')"
      ]
     },
     "execution_count": 5,
     "metadata": {},
     "output_type": "execute_result"
    }
   ],
   "source": [
    "t['name']"
   ]
  },
  {
   "cell_type": "raw",
   "metadata": {},
   "source": [
    "ravel and flatten function are same conver ndim ko 1d m krta hy\n",
    "bs frk y hy 1-ek return krta hy copy or ek return krta hy view\n",
    "copy (purana array alag hy or new memory m save hua hy)\n",
    "view( purana array b update ho ga pr dimension same rhi g)\n",
    "flatten method hy or flat attribute\n",
    "to list ka method numpy array ko python list m cnvrt krta hy\n",
    "asarray cnvert the data type of existing array"
   ]
  },
  {
   "cell_type": "raw",
   "metadata": {},
   "source": [
    "resize in memory m ja kr chnage krta hy\n",
    "reshape jaha chaly ga sirf wohi ho g"
   ]
  },
  {
   "cell_type": "raw",
   "metadata": {},
   "source": [
    "concatenate b stack krta hy but axis m\n",
    "hstack m no oof rows  same hony chahie\n",
    "vstack m no of column same hony chahie\n",
    "by default axis ki value 0 \n",
    "1 rows, horizontal\n",
    "0 columns, vertical\n",
    "dstack slides m stack krta hy hr slide ki widht or height same ho\n",
    " column stack dstack or hstak krta hy \n",
    " row stack vstack hy \n",
    " dsplit hr slide k pehla column \n"
   ]
  },
  {
   "cell_type": "raw",
   "metadata": {},
   "source": [
    "vstack or hstack hy to phr column stack or v stack ki need q hui??  "
   ]
  },
  {
   "cell_type": "raw",
   "metadata": {},
   "source": [
    "nbytes total lenght btata hy array ki \n",
    "itemsize*size= total lenght"
   ]
  },
  {
   "cell_type": "raw",
   "metadata": {},
   "source": [
    "CHAPPPTEER 3"
   ]
  },
  {
   "cell_type": "raw",
   "metadata": {},
   "source": [
    "PROCESS MINING pm.py\n",
    ". COURSE\n",
    ". HR DATA KO BY PROCESS GET KRNA"
   ]
  },
  {
   "cell_type": "raw",
   "metadata": {},
   "source": [
    "id ka function memory d btata hy \n"
   ]
  },
  {
   "cell_type": "code",
   "execution_count": null,
   "metadata": {},
   "outputs": [],
   "source": []
  }
 ],
 "metadata": {
  "kernelspec": {
   "display_name": "Python 3",
   "language": "python",
   "name": "python3"
  },
  "language_info": {
   "codemirror_mode": {
    "name": "ipython",
    "version": 3
   },
   "file_extension": ".py",
   "mimetype": "text/x-python",
   "name": "python",
   "nbconvert_exporter": "python",
   "pygments_lexer": "ipython3",
   "version": "3.7.0"
  }
 },
 "nbformat": 4,
 "nbformat_minor": 2
}
