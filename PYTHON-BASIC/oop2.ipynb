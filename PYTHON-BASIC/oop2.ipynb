{
 "cells": [
  {
   "cell_type": "code",
   "execution_count": null,
   "metadata": {},
   "outputs": [],
   "source": [
    "# %load objects1.py\n",
    "class Dog():\n",
    "    \"\"\"A simple attempt to model a dog.\"\"\"\n",
    "\n",
    "    def __init__(self,name,age):\n",
    "        print(\"Dog init\")\n",
    "        print(\"Name \",name)\n",
    "        print(\"Age \", age)\n",
    "\n",
    "    #def __init__(self,name):\n",
    "    #    print(\"Dog init\")\n",
    "    #    print(\"Name \",name)\n",
    "\n",
    "    def bark(self):\n",
    "        print(\"Dog is barking\")\n",
    "\n",
    "e = Dog(\"willie\",6)\n",
    "#g = Dog(\"willie\")\n",
    "#print(d)\n",
    "#d.bark()\n"
   ]
  },
  {
   "cell_type": "code",
   "execution_count": 9,
   "metadata": {},
   "outputs": [
    {
     "name": "stdout",
     "output_type": "stream",
     "text": [
      "Dog init\n",
      "Name  willie\n",
      "Age  6\n",
      "willie\n",
      "6\n",
      "10\n"
     ]
    }
   ],
   "source": [
    "# %load objects2.py\n",
    "class Dog():\n",
    "    \"\"\"A simple attempt to model a dog.\"\"\"\n",
    "\n",
    "    def __init__(self,name,age):\n",
    "        print(\"Dog init\")\n",
    "        print(\"Name \",name)\n",
    "        print(\"Age \", age)\n",
    "        self.name = name\n",
    "        self.age = age\n",
    "\n",
    "    def bark(self):\n",
    "        print(\"Dog is barking\")\n",
    "\n",
    "e = Dog(\"willie\",6)\n",
    "\n",
    "print(e.name)\n",
    "print(e.age)\n",
    "e.age = 10\n",
    "print(e.age)\n"
   ]
  },
  {
   "cell_type": "code",
   "execution_count": 7,
   "metadata": {},
   "outputs": [
    {
     "name": "stdout",
     "output_type": "stream",
     "text": [
      "Dog init\n",
      "Name  willie\n",
      "Age  6\n",
      "willie is barking\n"
     ]
    }
   ],
   "source": [
    "# %load object3.py\n",
    "class Dog():\n",
    "    \"\"\"A simple attempt to model a dog.\"\"\"\n",
    "\n",
    "    def __init__(self,name,age):\n",
    "        print(\"Dog init\")\n",
    "        print(\"Name \",name)\n",
    "        print(\"Age \", age)\n",
    "        self.name = name\n",
    "        self.age = age\n",
    "\n",
    "    def bark(self):\n",
    "        print(self.name +\" is barking\")\n",
    "\n",
    "e = Dog(\"willie\",6)\n",
    "e.bark()"
   ]
  },
  {
   "cell_type": "code",
   "execution_count": 1,
   "metadata": {},
   "outputs": [
    {
     "name": "stdout",
     "output_type": "stream",
     "text": [
      "Dog init\n",
      "Name  willie\n",
      "Age  6\n",
      "Dog init\n",
      "Name  lucy\n",
      "Age  3\n",
      "willie is barking\n",
      "lucy is barking\n"
     ]
    }
   ],
   "source": [
    "class Dog():\n",
    "    \"\"\"A simple attempt to model a dog.\"\"\"\n",
    "\n",
    "    def __init__(self,name,age):\n",
    "        print(\"Dog init\")\n",
    "        print(\"Name \",name)\n",
    "        print(\"Age \", age)\n",
    "        self.name = name\n",
    "        self.age = age\n",
    "\n",
    "    def bark(self):\n",
    "        print(self.name +\" is barking\")\n",
    "\n",
    "myDog = Dog(\"willie\",6)\n",
    "yourDog = Dog(\"lucy\",3)\n",
    "\n",
    "myDog.bark()\n",
    "yourDog.bark()\n"
   ]
  },
  {
   "cell_type": "code",
   "execution_count": 2,
   "metadata": {},
   "outputs": [
    {
     "name": "stdout",
     "output_type": "stream",
     "text": [
      "Dog init\n",
      "Name  willie\n",
      "Age  6\n",
      "Dog init\n",
      "Name  lucy\n",
      "Age  3\n",
      "willie is barking\n",
      "lucy is barking\n",
      "2\n"
     ]
    }
   ],
   "source": [
    "class Dog():\n",
    "    \"\"\"A simple attempt to model a dog.\"\"\"\n",
    "    total = 0\n",
    "    def __init__(self,name,age):\n",
    "        print(\"Dog init\")\n",
    "        print(\"Name \",name)\n",
    "        print(\"Age \", age)\n",
    "        self.name = name\n",
    "        self.age = age\n",
    "        Dog.total = Dog.total+1\n",
    "\n",
    "    def bark(self):\n",
    "        print(self.name +\" is barking\")\n",
    "\n",
    "myDog = Dog(\"willie\",6)\n",
    "yourDog = Dog(\"lucy\",3)\n",
    "\n",
    "myDog.bark()\n",
    "yourDog.bark()\n",
    "print(Dog.total)\n",
    "\n",
    "\n"
   ]
  },
  {
   "cell_type": "code",
   "execution_count": 3,
   "metadata": {},
   "outputs": [
    {
     "name": "stdout",
     "output_type": "stream",
     "text": [
      "Dog init\n",
      "Name  willie\n",
      "Age  6\n",
      "Dog init\n",
      "Name  lucy\n",
      "Age  3\n",
      "willie is barking\n",
      "lucy is barking\n",
      "2\n"
     ]
    }
   ],
   "source": [
    "class Dog():\n",
    "    \"\"\"A simple attempt to model a dog.\"\"\"\n",
    "    total = 0\n",
    "    def __init__(a,name,age):\n",
    "        print(\"Dog init\")\n",
    "        print(\"Name \",name)\n",
    "        print(\"Age \", age)\n",
    "        a.name = name\n",
    "        a.age = age\n",
    "        Dog.total = Dog.total+1\n",
    "\n",
    "    def bark(b):\n",
    "        print(b.name +\" is barking\")\n",
    "\n",
    "myDog = Dog(\"willie\",6)\n",
    "yourDog = Dog(\"lucy\",3)\n",
    "\n",
    "myDog.bark()\n",
    "yourDog.bark()\n",
    "print(Dog.total)\n",
    "\n",
    "\n"
   ]
  },
  {
   "cell_type": "code",
   "execution_count": 4,
   "metadata": {},
   "outputs": [
    {
     "name": "stdout",
     "output_type": "stream",
     "text": [
      "2016 audi a4\n"
     ]
    }
   ],
   "source": [
    "class Car():\n",
    "\n",
    "    def __init__(self,make,model,year):\n",
    "        self.make = make\n",
    "        self.model = model\n",
    "        self.year = year\n",
    "\n",
    "    def get_descriptive_name(self):\n",
    "        long_name = str(self.year)+ ' '+self.make + ' ' + self.model\n",
    "        return long_name\n",
    "\n",
    "\n",
    "c = Car('audi', 'a4', 2016)\n",
    "name = c.get_descriptive_name()\n",
    "print(name)\n",
    "\n",
    "\n"
   ]
  },
  {
   "cell_type": "code",
   "execution_count": 6,
   "metadata": {},
   "outputs": [
    {
     "name": "stdout",
     "output_type": "stream",
     "text": [
      "5\n",
      "400000\n"
     ]
    }
   ],
   "source": [
    "class Car():\n",
    "\n",
    "    def __init__(self,make,model,year):\n",
    "        self.make = make\n",
    "        self.model = model\n",
    "        self.year = year\n",
    "        self.__odometer_reading = 5\n",
    "\n",
    "\n",
    "    def get_descriptive_name(self):\n",
    "        long_name = str(self.year)+ ' '+self.make + ' ' + self.model + ' '+ str(self.__odometer_reading)\n",
    "        return long_name\n",
    "\n",
    "    def update_odometer(self, val):\n",
    "        self.__odometer_reading = val\n",
    "\n",
    "    def get_odometer(self):\n",
    "        return self.__odometer_reading\n",
    "\n",
    "\n",
    "c = Car('audi', 'a4', 2016)\n",
    "\n",
    "print(c.get_odometer())\n",
    "c.update_odometer(400000)\n",
    "print(c.get_odometer())\n",
    "\n",
    "\n"
   ]
  },
  {
   "cell_type": "code",
   "execution_count": 2,
   "metadata": {},
   "outputs": [
    {
     "name": "stdout",
     "output_type": "stream",
     "text": [
      "Car started\n"
     ]
    }
   ],
   "source": [
    "class Car():\n",
    "\n",
    "    def __init__(self,make,model,year):\n",
    "        self.make = make\n",
    "        self.model = model\n",
    "        self.year = year\n",
    "        self.__odometer_reading = 5\n",
    "\n",
    "\n",
    "    def get_descriptive_name(self):\n",
    "        long_name = str(self.year)+ ' '+self.make + ' ' + self.model + ' '+ str(self.__odometer_reading)\n",
    "        return long_name\n",
    "\n",
    "    def update_odometer(self, val):\n",
    "        self.__odometer_reading = val\n",
    "\n",
    "    def get_odometer(self):\n",
    "        return self.__odometer_reading\n",
    "\n",
    "    def start(self):\n",
    "        print(\"Car started\")\n",
    "\n",
    "\n",
    "c = Car('audi', 'a4', 2016)\n",
    "\n",
    "c.start()\n"
   ]
  },
  {
   "cell_type": "code",
   "execution_count": 3,
   "metadata": {},
   "outputs": [
    {
     "name": "stdout",
     "output_type": "stream",
     "text": [
      "Make = audi, Model =  a4, Year = 2016\n"
     ]
    }
   ],
   "source": [
    "class Car():\n",
    "\n",
    "    def __init__(self,make,model,year):\n",
    "        self.make = make\n",
    "        self.model = model\n",
    "        self.year = year\n",
    "\n",
    "\n",
    "    def get_descriptive_name(self):\n",
    "        long_name = str(self.year)+ ' '+self.make + ' ' + self.model\n",
    "        return long_name\n",
    "\n",
    "    def __str__(self):\n",
    "        return \"Make = \"+self.make + \", Model =  \" + self.model + \", Year = \"+ str(self.year)\n",
    "\n",
    "c = Car('audi', 'a4', 2016)\n",
    "\n",
    "print(c)\n"
   ]
  },
  {
   "cell_type": "code",
   "execution_count": 4,
   "metadata": {},
   "outputs": [
    {
     "name": "stdout",
     "output_type": "stream",
     "text": [
      "2016 Tesla s4 5\n",
      "2016\n"
     ]
    }
   ],
   "source": [
    "class Car():\n",
    "\n",
    "    def __init__(self,make,model,year):\n",
    "        self.make = make\n",
    "        self.model = model\n",
    "        self.year = year\n",
    "        self.__odometer_reading = 5\n",
    "\n",
    "\n",
    "    def get_descriptive_name(self):\n",
    "        long_name = str(self.year)+ ' '+self.make + ' ' + self.model + ' '+ str(self.__odometer_reading)\n",
    "        return long_name\n",
    "\n",
    "    def update_odometer(self, val):\n",
    "        self.__odometer_reading = val\n",
    "\n",
    "    def get_odometer(self):\n",
    "        return self.__odometer_reading\n",
    "\n",
    "    def __start(self):\n",
    "        print(\"Car started\")\n",
    "\n",
    "class ElectricCar(Car):\n",
    "    '''ElectricCar'''\n",
    "    def __init__(self,make,model,year):\n",
    "        super().__init__(make,model,year)\n",
    "        #self.make = make\n",
    "        #self.model = model\n",
    "        #self.year = year\n",
    "\n",
    "\n",
    "c = Car('audi', 'a4', 2016)\n",
    "ec = ElectricCar('Tesla', 's4', 2016)\n",
    "print(ec.get_descriptive_name())\n",
    "print(ec.year)"
   ]
  },
  {
   "cell_type": "code",
   "execution_count": 5,
   "metadata": {},
   "outputs": [
    {
     "name": "stdout",
     "output_type": "stream",
     "text": [
      "2016 Tesla s4\n"
     ]
    }
   ],
   "source": [
    "class Car():\n",
    "\n",
    "    def __init__(self,make,model,year):\n",
    "        self.make = make\n",
    "        self.model = model\n",
    "        self.year = year\n",
    "        self.__odometer_reading = 5\n",
    "\n",
    "\n",
    "    def get_descriptive_name(self):\n",
    "        #long_name = str(self.year)+ ' '+self.make + ' ' + self.model + ' '+ str(self.__odometer_reading)\n",
    "        long_name = str(self.year) + ' ' + self.make + ' ' + self.model\n",
    "        return long_name\n",
    "\n",
    "    def update_odometer(self, val):\n",
    "        self.__odometer_reading = val\n",
    "\n",
    "    def get_odometer(self):\n",
    "        return self.__odometer_reading\n",
    "\n",
    "    def __start(self):\n",
    "        print(\"Car started\")\n",
    "\n",
    "class ElectricCar(Car):\n",
    "    '''ElectricCar'''\n",
    "    def __init__(self,make,model,year):\n",
    "        #super().__init__(make,model,year)\n",
    "        self.make = make\n",
    "        self.model = model\n",
    "        self.year = year\n",
    "\n",
    "\n",
    "c = Car('audi', 'a4', 2016)\n",
    "ec = ElectricCar('Tesla', 's4', 2016)\n",
    "print(ec.get_descriptive_name())\n"
   ]
  },
  {
   "cell_type": "code",
   "execution_count": null,
   "metadata": {},
   "outputs": [],
   "source": []
  }
 ],
 "metadata": {
  "kernelspec": {
   "display_name": "Python 3",
   "language": "python",
   "name": "python3"
  }
 },
 "nbformat": 4,
 "nbformat_minor": 2
}
